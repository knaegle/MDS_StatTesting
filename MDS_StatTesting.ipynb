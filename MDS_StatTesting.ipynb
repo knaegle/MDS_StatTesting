{
 "cells": [
  {
   "cell_type": "markdown",
   "id": "55f57ed3",
   "metadata": {},
   "source": [
    "# MDS Central Limit Theorem Homework"
   ]
  },
  {
   "cell_type": "markdown",
   "id": "adff3d3e",
   "metadata": {},
   "source": [
    "### Question 1 - Experiment to sample from a normal distribution"
   ]
  },
  {
   "cell_type": "code",
   "execution_count": null,
   "id": "75aae09d",
   "metadata": {},
   "outputs": [],
   "source": [
    "import numpy as np # this package contains important numerical handling functions\n",
    "from scipy import stats # this package is used for scientific and technical computing -- this is an example of importing just one part of a larger package.\n",
    "import matplotlib.pyplot as plt # this package is used for creating static, animated, and interactive visualizations in Python. \n",
    "# feel free to use other packages, like seaborn, etc."
   ]
  },
  {
   "cell_type": "code",
   "execution_count": null,
   "id": "fb55fe3e",
   "metadata": {},
   "outputs": [],
   "source": [
    "def sample_normal_distribution(mean, std_dev, n):\n",
    "    \"\"\"\n",
    "    Returns the mean value observed from n samples taken from a normal distribution\n",
    "    \"\"\"\n",
    "    samples = np.random.normal(mean, std_dev, n)\n",
    "    sample_mean = np.mean(samples)\n",
    "    return sample_mean"
   ]
  },
  {
   "cell_type": "code",
   "execution_count": null,
   "id": "b75ed0ec",
   "metadata": {},
   "outputs": [],
   "source": [
    "# Here is the specific computational experiment for a range of different n and \n",
    "# enough trials to understand the long-range behavior of sampling\n",
    "\n",
    "n = range(1,50)\n",
    "num_trials = 1000\n",
    "mu = 3\n",
    "std_dev = 1\n",
    "\n",
    "sample_dict = {}\n",
    "for i in n:\n",
    "    means = []\n",
    "    for _ in range(num_trials):\n",
    "        sample_mean = sample_normal_distribution(mu, std_dev, i)\n",
    "        means.append(sample_mean)\n",
    "    sample_dict[i] = means\n",
    "\n",
    "# Check this shape makes sense\n",
    "print(f\"Number of different n values: {len(sample_dict.keys())}\")\n",
    "print(f\"Number of trials for each n: {len(sample_dict[1])}\")\n"
   ]
  }
 ],
 "metadata": {
  "kernelspec": {
   "display_name": "KSTAR-2025",
   "language": "python",
   "name": "python3"
  },
  "language_info": {
   "codemirror_mode": {
    "name": "ipython",
    "version": 3
   },
   "file_extension": ".py",
   "mimetype": "text/x-python",
   "name": "python",
   "nbconvert_exporter": "python",
   "pygments_lexer": "ipython3",
   "version": "3.11.11"
  }
 },
 "nbformat": 4,
 "nbformat_minor": 5
}
