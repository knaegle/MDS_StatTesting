{
 "cells": [
  {
   "cell_type": "markdown",
   "id": "55f57ed3",
   "metadata": {},
   "source": [
    "# MDS Statistical Testing Homework"
   ]
  },
  {
   "cell_type": "markdown",
   "id": "adff3d3e",
   "metadata": {},
   "source": [
    "## Question 1 - Experiment to test differential expression"
   ]
  },
  {
   "cell_type": "code",
   "execution_count": 1,
   "id": "75aae09d",
   "metadata": {},
   "outputs": [
    {
     "name": "stdout",
     "output_type": "stream",
     "text": [
      "Intel MKL WARNING: Support of Intel(R) Streaming SIMD Extensions 4.2 (Intel(R) SSE4.2) enabled only processors has been deprecated. Intel oneAPI Math Kernel Library 2025.0 will require Intel(R) Advanced Vector Extensions (Intel(R) AVX) instructions.\n",
      "Intel MKL WARNING: Support of Intel(R) Streaming SIMD Extensions 4.2 (Intel(R) SSE4.2) enabled only processors has been deprecated. Intel oneAPI Math Kernel Library 2025.0 will require Intel(R) Advanced Vector Extensions (Intel(R) AVX) instructions.\n"
     ]
    }
   ],
   "source": [
    "import numpy as np # this package contains important numerical handling functions\n",
    "from scipy import stats # this package is used for scientific and technical computing -- this is an example of importing just one part of a larger package.\n",
    "import matplotlib.pyplot as plt # this package is used for creating static, animated, and interactive visualizations in Python. \n",
    "# feel free to use other packages, like seaborn, etc."
   ]
  },
  {
   "cell_type": "code",
   "execution_count": 2,
   "id": "b75ed0ec",
   "metadata": {},
   "outputs": [
    {
     "name": "stdout",
     "output_type": "stream",
     "text": [
      "p_value: 5.502e-02\n",
      "Fail to reject null hypothesis\n"
     ]
    }
   ],
   "source": [
    "# Here is the specific computational experiment that gets samples from an underlying distribution and compares them\n",
    "\n",
    "n = 3\n",
    "num_trials = 100\n",
    "\n",
    "alpha = 0.05\n",
    "\n",
    "mu_1 = 1\n",
    "sigma_1 = 1\n",
    "mu_2 = 3\n",
    "sigma_2 = 1\n",
    "\n",
    "# Example of doing a t-test on one pair of samples of size n, sampled from two different distributions\n",
    "samples_1 = np.random.normal(mu_1, sigma_1, n)\n",
    "samples_2 = np.random.normal(mu_2, sigma_2, n)\n",
    "\n",
    "# Compare the two samples\n",
    "t_stat, p_value = stats.ttest_ind(samples_1, samples_2)\n",
    "\n",
    "print(\"p_value: %.3e\" % p_value)\n",
    "if p_value < alpha:\n",
    "    print(\"Reject null hypothesis\")\n",
    "else:\n",
    "    print(\"Fail to reject null hypothesis\")\n"
   ]
  },
  {
   "cell_type": "markdown",
   "id": "62c5766b",
   "metadata": {},
   "source": [
    "## Question 2: Multiple hypothesis correction"
   ]
  },
  {
   "cell_type": "code",
   "execution_count": 3,
   "id": "e708b8d7",
   "metadata": {},
   "outputs": [],
   "source": [
    "import MHC\n",
    "\n",
    "alpha = 0.05\n"
   ]
  },
  {
   "cell_type": "code",
   "execution_count": null,
   "id": "694df551",
   "metadata": {},
   "outputs": [
    {
     "name": "stdout",
     "output_type": "stream",
     "text": [
      "Corrected alpha (Bonferroni): 3.333e-03\n",
      "Number of rejections (Bonferroni): 3\n"
     ]
    }
   ],
   "source": [
    "# The pvalue array from the FDR paper to use for testing\n",
    "p_val_array = [0.0095, 0.0201, 0.0278, 0.0298, 0.0344, 0.0001, 0.0004, 0.0019, 1.0, 0.759, 0.6528, 0.5719, 0.4262, 0.3240, 0.0459]\n",
    "\n",
    "bonferroni_alpha = MHC.bonferroni(p_val_array, alpha)\n",
    "print(\"Corrected alpha (Bonferroni): %.3e\" % bonferroni_alpha)\n",
    "print(\"Number of rejections (Bonferroni): %d\" % sum(p < bonferroni_alpha for p in p_val_array))"
   ]
  }
 ],
 "metadata": {
  "kernelspec": {
   "display_name": "KSTAR-2025",
   "language": "python",
   "name": "python3"
  },
  "language_info": {
   "codemirror_mode": {
    "name": "ipython",
    "version": 3
   },
   "file_extension": ".py",
   "mimetype": "text/x-python",
   "name": "python",
   "nbconvert_exporter": "python",
   "pygments_lexer": "ipython3",
   "version": "3.11.11"
  }
 },
 "nbformat": 4,
 "nbformat_minor": 5
}
